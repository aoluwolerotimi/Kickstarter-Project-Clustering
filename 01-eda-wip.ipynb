{
 "cells": [
  {
   "cell_type": "markdown",
   "metadata": {},
   "source": [
    "### Objectives\n",
    "The purpose of this notebook is to develop a solid understanding of the variables in the dataset and their relationship to one another in order to guide ML model development. Inisghts will help steer which types of models can best address the overall project objetive as well as the additional preprocessing required to have a dataset which is ready for ML application.\n",
    "\n",
    "As a secondary objective, the descriptive analysis can be used to test assumptions held within the business and draw out preliminary insights. "
   ]
  },
  {
   "cell_type": "markdown",
   "metadata": {},
   "source": [
    "### Insights of Interest\n",
    "(Insert the most important insights, create interactive plotly plots for these select few)"
   ]
  },
  {
   "cell_type": "code",
   "execution_count": null,
   "metadata": {},
   "outputs": [],
   "source": [
    "# imports (pandas, plotly)"
   ]
  },
  {
   "cell_type": "code",
   "execution_count": 3,
   "metadata": {},
   "outputs": [],
   "source": [
    "import pandas as pd\n",
    "import numpy as np\n",
    "import seaborn as sns\n",
    "import sys\n",
    "import os"
   ]
  },
  {
   "cell_type": "code",
   "execution_count": 5,
   "metadata": {},
   "outputs": [],
   "source": [
    "df = pd.read_excel(\"./data/cleaned_data.xlsx\")"
   ]
  },
  {
   "cell_type": "code",
   "execution_count": 11,
   "metadata": {},
   "outputs": [
    {
     "name": "stdout",
     "output_type": "stream",
     "text": [
      "0\n"
     ]
    }
   ],
   "source": [
    "print(df.duplicated().sum()) # no duplicates. add to data cleaning notebook after. "
   ]
  },
  {
   "cell_type": "markdown",
   "metadata": {},
   "source": [
    "### Preparation"
   ]
  },
  {
   "cell_type": "code",
   "execution_count": 14,
   "metadata": {},
   "outputs": [
    {
     "data": {
      "text/plain": [
       "Index(['id', 'name', 'goal', 'pledged', 'state', 'disable_communication',\n",
       "       'country', 'currency', 'deadline', 'state_changed_at', 'created_at',\n",
       "       'launched_at', 'staff_pick', 'backers_count', 'static_usd_rate',\n",
       "       'usd_pledged', 'category', 'spotlight', 'name_len', 'name_len_clean',\n",
       "       'blurb_len', 'blurb_len_clean', 'deadline_weekday',\n",
       "       'state_changed_at_weekday', 'created_at_weekday', 'launched_at_weekday',\n",
       "       'deadline_month', 'deadline_day', 'deadline_yr', 'deadline_hr',\n",
       "       'state_changed_at_month', 'state_changed_at_day', 'state_changed_at_yr',\n",
       "       'state_changed_at_hr', 'created_at_month', 'created_at_day',\n",
       "       'created_at_yr', 'created_at_hr', 'launched_at_month',\n",
       "       'launched_at_day', 'launched_at_yr', 'launched_at_hr',\n",
       "       'create_to_launch_days', 'launch_to_deadline_days',\n",
       "       'launch_to_state_change_days', 'usd_goal', 'name2', 'name_len2',\n",
       "       'name_len_clean_2'],\n",
       "      dtype='object')"
      ]
     },
     "execution_count": 14,
     "metadata": {},
     "output_type": "execute_result"
    }
   ],
   "source": [
    "df.columns"
   ]
  },
  {
   "cell_type": "code",
   "execution_count": 17,
   "metadata": {},
   "outputs": [],
   "source": [
    "# checking if currency always matches with country\n",
    "df['cc'] = df['country'] + df['currency']"
   ]
  },
  {
   "cell_type": "code",
   "execution_count": 19,
   "metadata": {},
   "outputs": [
    {
     "data": {
      "text/plain": [
       "array(['GBGBP', 'DEEUR', 'USUSD', 'AUAUD', 'CACAD', 'NONOK', 'FREUR',\n",
       "       'BEEUR', 'NZNZD', 'ITEUR', 'SESEK', 'IEEUR', 'DKDKK', 'ESEUR',\n",
       "       'NLEUR', 'CHCHF', 'ATEUR', 'LUEUR'], dtype=object)"
      ]
     },
     "execution_count": 19,
     "metadata": {},
     "output_type": "execute_result"
    }
   ],
   "source": [
    "df['cc'].unique() # currency for fundraising does not differ in the same country. no extra information captured having both the country and currency variable"
   ]
  },
  {
   "cell_type": "code",
   "execution_count": 20,
   "metadata": {},
   "outputs": [],
   "source": [
    "# dropping unnecessary columns\n",
    "df = df.drop(columns=['id', 'goal', 'pledged', 'currency', 'cc', 'deadline', 'state_changed_at','created_at','launched_at', 'static_usd_rate' ], axis=1)\n",
    "# dropping id col\n",
    "# non-US currency cols\n",
    "# timestamps since they've already been broken down into individual variables"
   ]
  },
  {
   "cell_type": "code",
   "execution_count": 32,
   "metadata": {},
   "outputs": [],
   "source": [
    "# and removing the ones i remade. \n",
    "df = df.drop(columns=['name', 'name_len', 'name_len_clean'], axis=1)\n"
   ]
  },
  {
   "cell_type": "code",
   "execution_count": 35,
   "metadata": {},
   "outputs": [],
   "source": [
    "catcols = df.select_dtypes(include=['object', 'bool']).columns.to_list()"
   ]
  },
  {
   "cell_type": "code",
   "execution_count": 38,
   "metadata": {},
   "outputs": [],
   "source": [
    "numcols = [col for col in df.columns if col not in catcols]"
   ]
  },
  {
   "cell_type": "markdown",
   "metadata": {},
   "source": [
    "### Univariate Analysis"
   ]
  },
  {
   "cell_type": "code",
   "execution_count": 42,
   "metadata": {},
   "outputs": [
    {
     "data": {
      "text/html": [
       "<div>\n",
       "<style scoped>\n",
       "    .dataframe tbody tr th:only-of-type {\n",
       "        vertical-align: middle;\n",
       "    }\n",
       "\n",
       "    .dataframe tbody tr th {\n",
       "        vertical-align: top;\n",
       "    }\n",
       "\n",
       "    .dataframe thead th {\n",
       "        text-align: right;\n",
       "    }\n",
       "</style>\n",
       "<table border=\"1\" class=\"dataframe\">\n",
       "  <thead>\n",
       "    <tr style=\"text-align: right;\">\n",
       "      <th></th>\n",
       "      <th>backers_count</th>\n",
       "      <th>usd_pledged</th>\n",
       "      <th>blurb_len</th>\n",
       "      <th>blurb_len_clean</th>\n",
       "      <th>deadline_month</th>\n",
       "      <th>deadline_day</th>\n",
       "      <th>deadline_yr</th>\n",
       "      <th>deadline_hr</th>\n",
       "      <th>state_changed_at_month</th>\n",
       "      <th>state_changed_at_day</th>\n",
       "      <th>...</th>\n",
       "      <th>launched_at_month</th>\n",
       "      <th>launched_at_day</th>\n",
       "      <th>launched_at_yr</th>\n",
       "      <th>launched_at_hr</th>\n",
       "      <th>create_to_launch_days</th>\n",
       "      <th>launch_to_deadline_days</th>\n",
       "      <th>launch_to_state_change_days</th>\n",
       "      <th>usd_goal</th>\n",
       "      <th>name_len2</th>\n",
       "      <th>name_len_clean_2</th>\n",
       "    </tr>\n",
       "  </thead>\n",
       "  <tbody>\n",
       "    <tr>\n",
       "      <th>count</th>\n",
       "      <td>15474.00</td>\n",
       "      <td>15474.00</td>\n",
       "      <td>15470.00</td>\n",
       "      <td>15470.00</td>\n",
       "      <td>15474.00</td>\n",
       "      <td>15474.00</td>\n",
       "      <td>15474.00</td>\n",
       "      <td>15474.00</td>\n",
       "      <td>15474.00</td>\n",
       "      <td>15474.00</td>\n",
       "      <td>...</td>\n",
       "      <td>15474.00</td>\n",
       "      <td>15474.00</td>\n",
       "      <td>15474.00</td>\n",
       "      <td>15474.00</td>\n",
       "      <td>15474.00</td>\n",
       "      <td>15474.00</td>\n",
       "      <td>15474.00</td>\n",
       "      <td>1.547400e+04</td>\n",
       "      <td>15474.00</td>\n",
       "      <td>15474.00</td>\n",
       "    </tr>\n",
       "    <tr>\n",
       "      <th>mean</th>\n",
       "      <td>181.17</td>\n",
       "      <td>19975.49</td>\n",
       "      <td>18.99</td>\n",
       "      <td>13.03</td>\n",
       "      <td>6.78</td>\n",
       "      <td>15.66</td>\n",
       "      <td>2014.37</td>\n",
       "      <td>13.05</td>\n",
       "      <td>6.78</td>\n",
       "      <td>15.65</td>\n",
       "      <td>...</td>\n",
       "      <td>6.62</td>\n",
       "      <td>15.30</td>\n",
       "      <td>2014.29</td>\n",
       "      <td>12.59</td>\n",
       "      <td>46.91</td>\n",
       "      <td>34.68</td>\n",
       "      <td>32.02</td>\n",
       "      <td>9.474142e+04</td>\n",
       "      <td>5.80</td>\n",
       "      <td>4.73</td>\n",
       "    </tr>\n",
       "    <tr>\n",
       "      <th>std</th>\n",
       "      <td>1287.83</td>\n",
       "      <td>114439.55</td>\n",
       "      <td>4.64</td>\n",
       "      <td>3.26</td>\n",
       "      <td>3.42</td>\n",
       "      <td>9.04</td>\n",
       "      <td>1.12</td>\n",
       "      <td>6.06</td>\n",
       "      <td>3.41</td>\n",
       "      <td>8.99</td>\n",
       "      <td>...</td>\n",
       "      <td>3.36</td>\n",
       "      <td>8.78</td>\n",
       "      <td>1.12</td>\n",
       "      <td>5.59</td>\n",
       "      <td>101.77</td>\n",
       "      <td>11.98</td>\n",
       "      <td>13.67</td>\n",
       "      <td>1.462852e+06</td>\n",
       "      <td>2.84</td>\n",
       "      <td>2.25</td>\n",
       "    </tr>\n",
       "    <tr>\n",
       "      <th>min</th>\n",
       "      <td>0.00</td>\n",
       "      <td>0.00</td>\n",
       "      <td>1.00</td>\n",
       "      <td>1.00</td>\n",
       "      <td>1.00</td>\n",
       "      <td>1.00</td>\n",
       "      <td>2009.00</td>\n",
       "      <td>0.00</td>\n",
       "      <td>1.00</td>\n",
       "      <td>1.00</td>\n",
       "      <td>...</td>\n",
       "      <td>1.00</td>\n",
       "      <td>1.00</td>\n",
       "      <td>2009.00</td>\n",
       "      <td>0.00</td>\n",
       "      <td>0.00</td>\n",
       "      <td>1.00</td>\n",
       "      <td>0.00</td>\n",
       "      <td>1.000000e+00</td>\n",
       "      <td>1.00</td>\n",
       "      <td>0.00</td>\n",
       "    </tr>\n",
       "    <tr>\n",
       "      <th>25%</th>\n",
       "      <td>2.00</td>\n",
       "      <td>24.86</td>\n",
       "      <td>17.00</td>\n",
       "      <td>11.00</td>\n",
       "      <td>4.00</td>\n",
       "      <td>8.00</td>\n",
       "      <td>2014.00</td>\n",
       "      <td>9.00</td>\n",
       "      <td>4.00</td>\n",
       "      <td>8.00</td>\n",
       "      <td>...</td>\n",
       "      <td>4.00</td>\n",
       "      <td>8.00</td>\n",
       "      <td>2014.00</td>\n",
       "      <td>9.00</td>\n",
       "      <td>3.00</td>\n",
       "      <td>30.00</td>\n",
       "      <td>29.00</td>\n",
       "      <td>4.000000e+03</td>\n",
       "      <td>3.00</td>\n",
       "      <td>3.00</td>\n",
       "    </tr>\n",
       "    <tr>\n",
       "      <th>50%</th>\n",
       "      <td>12.00</td>\n",
       "      <td>676.84</td>\n",
       "      <td>20.00</td>\n",
       "      <td>13.00</td>\n",
       "      <td>7.00</td>\n",
       "      <td>15.00</td>\n",
       "      <td>2015.00</td>\n",
       "      <td>13.00</td>\n",
       "      <td>7.00</td>\n",
       "      <td>15.00</td>\n",
       "      <td>...</td>\n",
       "      <td>7.00</td>\n",
       "      <td>15.00</td>\n",
       "      <td>2015.00</td>\n",
       "      <td>13.00</td>\n",
       "      <td>13.00</td>\n",
       "      <td>30.00</td>\n",
       "      <td>30.00</td>\n",
       "      <td>1.250000e+04</td>\n",
       "      <td>6.00</td>\n",
       "      <td>5.00</td>\n",
       "    </tr>\n",
       "    <tr>\n",
       "      <th>75%</th>\n",
       "      <td>63.00</td>\n",
       "      <td>5896.88</td>\n",
       "      <td>22.00</td>\n",
       "      <td>15.00</td>\n",
       "      <td>10.00</td>\n",
       "      <td>23.00</td>\n",
       "      <td>2015.00</td>\n",
       "      <td>18.00</td>\n",
       "      <td>10.00</td>\n",
       "      <td>23.00</td>\n",
       "      <td>...</td>\n",
       "      <td>10.00</td>\n",
       "      <td>23.00</td>\n",
       "      <td>2015.00</td>\n",
       "      <td>17.00</td>\n",
       "      <td>43.00</td>\n",
       "      <td>40.00</td>\n",
       "      <td>35.00</td>\n",
       "      <td>4.482050e+04</td>\n",
       "      <td>8.00</td>\n",
       "      <td>6.00</td>\n",
       "    </tr>\n",
       "    <tr>\n",
       "      <th>max</th>\n",
       "      <td>105857.00</td>\n",
       "      <td>6225354.98</td>\n",
       "      <td>35.00</td>\n",
       "      <td>30.00</td>\n",
       "      <td>12.00</td>\n",
       "      <td>31.00</td>\n",
       "      <td>2016.00</td>\n",
       "      <td>23.00</td>\n",
       "      <td>12.00</td>\n",
       "      <td>31.00</td>\n",
       "      <td>...</td>\n",
       "      <td>12.00</td>\n",
       "      <td>31.00</td>\n",
       "      <td>2016.00</td>\n",
       "      <td>23.00</td>\n",
       "      <td>1528.00</td>\n",
       "      <td>91.00</td>\n",
       "      <td>91.00</td>\n",
       "      <td>1.000000e+08</td>\n",
       "      <td>16.00</td>\n",
       "      <td>14.00</td>\n",
       "    </tr>\n",
       "  </tbody>\n",
       "</table>\n",
       "<p>8 rows × 26 columns</p>\n",
       "</div>"
      ],
      "text/plain": [
       "       backers_count  usd_pledged  blurb_len  blurb_len_clean  deadline_month  \\\n",
       "count       15474.00     15474.00   15470.00         15470.00        15474.00   \n",
       "mean          181.17     19975.49      18.99            13.03            6.78   \n",
       "std          1287.83    114439.55       4.64             3.26            3.42   \n",
       "min             0.00         0.00       1.00             1.00            1.00   \n",
       "25%             2.00        24.86      17.00            11.00            4.00   \n",
       "50%            12.00       676.84      20.00            13.00            7.00   \n",
       "75%            63.00      5896.88      22.00            15.00           10.00   \n",
       "max        105857.00   6225354.98      35.00            30.00           12.00   \n",
       "\n",
       "       deadline_day  deadline_yr  deadline_hr  state_changed_at_month  \\\n",
       "count      15474.00     15474.00     15474.00                15474.00   \n",
       "mean          15.66      2014.37        13.05                    6.78   \n",
       "std            9.04         1.12         6.06                    3.41   \n",
       "min            1.00      2009.00         0.00                    1.00   \n",
       "25%            8.00      2014.00         9.00                    4.00   \n",
       "50%           15.00      2015.00        13.00                    7.00   \n",
       "75%           23.00      2015.00        18.00                   10.00   \n",
       "max           31.00      2016.00        23.00                   12.00   \n",
       "\n",
       "       state_changed_at_day  ...  launched_at_month  launched_at_day  \\\n",
       "count              15474.00  ...           15474.00         15474.00   \n",
       "mean                  15.65  ...               6.62            15.30   \n",
       "std                    8.99  ...               3.36             8.78   \n",
       "min                    1.00  ...               1.00             1.00   \n",
       "25%                    8.00  ...               4.00             8.00   \n",
       "50%                   15.00  ...               7.00            15.00   \n",
       "75%                   23.00  ...              10.00            23.00   \n",
       "max                   31.00  ...              12.00            31.00   \n",
       "\n",
       "       launched_at_yr  launched_at_hr  create_to_launch_days  \\\n",
       "count        15474.00        15474.00               15474.00   \n",
       "mean          2014.29           12.59                  46.91   \n",
       "std              1.12            5.59                 101.77   \n",
       "min           2009.00            0.00                   0.00   \n",
       "25%           2014.00            9.00                   3.00   \n",
       "50%           2015.00           13.00                  13.00   \n",
       "75%           2015.00           17.00                  43.00   \n",
       "max           2016.00           23.00                1528.00   \n",
       "\n",
       "       launch_to_deadline_days  launch_to_state_change_days      usd_goal  \\\n",
       "count                 15474.00                     15474.00  1.547400e+04   \n",
       "mean                     34.68                        32.02  9.474142e+04   \n",
       "std                      11.98                        13.67  1.462852e+06   \n",
       "min                       1.00                         0.00  1.000000e+00   \n",
       "25%                      30.00                        29.00  4.000000e+03   \n",
       "50%                      30.00                        30.00  1.250000e+04   \n",
       "75%                      40.00                        35.00  4.482050e+04   \n",
       "max                      91.00                        91.00  1.000000e+08   \n",
       "\n",
       "       name_len2  name_len_clean_2  \n",
       "count   15474.00          15474.00  \n",
       "mean        5.80              4.73  \n",
       "std         2.84              2.25  \n",
       "min         1.00              0.00  \n",
       "25%         3.00              3.00  \n",
       "50%         6.00              5.00  \n",
       "75%         8.00              6.00  \n",
       "max        16.00             14.00  \n",
       "\n",
       "[8 rows x 26 columns]"
      ]
     },
     "execution_count": 42,
     "metadata": {},
     "output_type": "execute_result"
    }
   ],
   "source": [
    "# descriptive statistics on numerical variables\n",
    "df.describe().round(2)"
   ]
  },
  {
   "cell_type": "markdown",
   "metadata": {},
   "source": [
    "**Observations (First Pass)**\n",
    "* Zero minimums for backers count and usd pledged makes sense since some may have been cancelled/ just started / suspended. For analysis, could help to limit to only records which were not suspended + those who had been running for at least a quarter of their expected run time by the time of data extraction. Potentially only those that completed their run or were cancelled. \n",
    "* 25% to 75% fairly close together for these two variables as well but the max is very far from that. Check distribution & check with SMRs for if these should be considered outliers or if there's an expected portion of projects that would have those very high numbers\n",
    "\n"
   ]
  },
  {
   "cell_type": "code",
   "execution_count": null,
   "metadata": {},
   "outputs": [],
   "source": [
    "# histogram and boxplot distributions of numerical variables"
   ]
  },
  {
   "cell_type": "code",
   "execution_count": null,
   "metadata": {},
   "outputs": [],
   "source": [
    "# check number of unique values for categorical variables"
   ]
  },
  {
   "cell_type": "code",
   "execution_count": null,
   "metadata": {},
   "outputs": [],
   "source": [
    "# frequency distributions of categrocial variables"
   ]
  },
  {
   "cell_type": "code",
   "execution_count": null,
   "metadata": {},
   "outputs": [],
   "source": [
    "# check proportion assigned to each of the top 10 values for the categorical variables"
   ]
  },
  {
   "cell_type": "code",
   "execution_count": null,
   "metadata": {},
   "outputs": [],
   "source": [
    "# check nature of categories for sense of how to encode "
   ]
  },
  {
   "cell_type": "markdown",
   "metadata": {},
   "source": [
    "### Bivariate Analysis"
   ]
  },
  {
   "cell_type": "code",
   "execution_count": null,
   "metadata": {},
   "outputs": [],
   "source": [
    "# create version of dataset with encoded categoricals and normalized numerical, perform 2 component PCA and plot for an initial idea of whether there are clusters present\n",
    "# make commentary, but don't abandon clustering yet"
   ]
  },
  {
   "cell_type": "code",
   "execution_count": null,
   "metadata": {},
   "outputs": [],
   "source": [
    "# pairplots for all the numerical variables, see if any relationships to observe. \n",
    "# especially among variables which seemed to have meaningful divides in the univariate analysis"
   ]
  },
  {
   "cell_type": "markdown",
   "metadata": {},
   "source": [
    "### Multivariate"
   ]
  },
  {
   "cell_type": "code",
   "execution_count": null,
   "metadata": {},
   "outputs": [],
   "source": [
    "# correlation martrix for numerical\n",
    "# chi-square tests for categorical"
   ]
  },
  {
   "cell_type": "code",
   "execution_count": null,
   "metadata": {},
   "outputs": [],
   "source": [
    "# check proportion of each categorical variable value that is in each state (mosaic plot)"
   ]
  },
  {
   "cell_type": "code",
   "execution_count": null,
   "metadata": {},
   "outputs": [],
   "source": [
    "# interesting bivariate plots from earlier color coded by state"
   ]
  },
  {
   "cell_type": "markdown",
   "metadata": {},
   "source": []
  },
  {
   "cell_type": "markdown",
   "metadata": {},
   "source": [
    "### Multivariate Analysis"
   ]
  },
  {
   "cell_type": "markdown",
   "metadata": {},
   "source": []
  }
 ],
 "metadata": {
  "kernelspec": {
   "display_name": "base",
   "language": "python",
   "name": "python3"
  },
  "language_info": {
   "codemirror_mode": {
    "name": "ipython",
    "version": 3
   },
   "file_extension": ".py",
   "mimetype": "text/x-python",
   "name": "python",
   "nbconvert_exporter": "python",
   "pygments_lexer": "ipython3",
   "version": "3.10.9"
  }
 },
 "nbformat": 4,
 "nbformat_minor": 2
}
